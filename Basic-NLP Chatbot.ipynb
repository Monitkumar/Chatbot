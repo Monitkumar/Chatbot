{
  "nbformat": 4,
  "nbformat_minor": 0,
  "metadata": {
    "colab": {
      "name": "Untitled2.ipynb",
      "provenance": [],
      "collapsed_sections": [],
      "mount_file_id": "1JZdSiwQswdYDC22l9i0XrI5iTKRfBNh7",
      "authorship_tag": "ABX9TyOL3dJaFcQdq9rq9eR7PaDs",
      "include_colab_link": true
    },
    "kernelspec": {
      "name": "python3",
      "display_name": "Python 3"
    },
    "language_info": {
      "name": "python"
    }
  },
  "cells": [
    {
      "cell_type": "markdown",
      "metadata": {
        "id": "view-in-github",
        "colab_type": "text"
      },
      "source": [
        "<a href=\"https://colab.research.google.com/github/Monitkumar/Chatbot/blob/main/Basic-NLP%20Chatbot.ipynb\" target=\"_parent\"><img src=\"https://colab.research.google.com/assets/colab-badge.svg\" alt=\"Open In Colab\"/></a>"
      ]
    },
    {
      "cell_type": "code",
      "execution_count": 45,
      "metadata": {
        "id": "krbaKrkAkfB1"
      },
      "outputs": [],
      "source": [
        "import numpy as np\n",
        "import nltk\n",
        "import string\n",
        "import random\n",
        "import sklearn"
      ]
    },
    {
      "cell_type": "markdown",
      "source": [
        "**Importing and reading the corpus**\n"
      ],
      "metadata": {
        "id": "HCufExW_lV2y"
      }
    },
    {
      "cell_type": "code",
      "source": [
        " f= open('/content/drive/MyDrive/colab datasets/data.txt','r', errors = 'ignore')\n",
        " "
      ],
      "metadata": {
        "id": "GqLnx1wFlj1W"
      },
      "execution_count": 120,
      "outputs": []
    },
    {
      "cell_type": "code",
      "source": [
        "raw_doc = f.read()\n",
        "raw_doc = raw_doc.lower()"
      ],
      "metadata": {
        "id": "gklDNuR1qqEZ"
      },
      "execution_count": 121,
      "outputs": []
    },
    {
      "cell_type": "code",
      "source": [
        "nltk.download('punkt')\n",
        "nltk.download('wordnet')"
      ],
      "metadata": {
        "colab": {
          "base_uri": "https://localhost:8080/"
        },
        "id": "kD73mKq3qqRm",
        "outputId": "2e209c70-af6c-4a61-faec-b475f378703b"
      },
      "execution_count": 94,
      "outputs": [
        {
          "output_type": "stream",
          "name": "stdout",
          "text": [
            "[nltk_data] Downloading package punkt to /root/nltk_data...\n",
            "[nltk_data]   Package punkt is already up-to-date!\n",
            "[nltk_data] Downloading package wordnet to /root/nltk_data...\n",
            "[nltk_data]   Package wordnet is already up-to-date!\n"
          ]
        },
        {
          "output_type": "execute_result",
          "data": {
            "text/plain": [
              "True"
            ]
          },
          "metadata": {},
          "execution_count": 94
        }
      ]
    },
    {
      "cell_type": "code",
      "source": [
        "sent_tokens = nltk.sent_tokenize(raw_doc)\n",
        "word_tokens = nltk.word_tokenize(raw_doc)"
      ],
      "metadata": {
        "id": "kp-9mak6qWxV"
      },
      "execution_count": 95,
      "outputs": []
    },
    {
      "cell_type": "code",
      "source": [
        "sent_tokens[:5]"
      ],
      "metadata": {
        "colab": {
          "base_uri": "https://localhost:8080/"
        },
        "id": "WDqBnXeMsunU",
        "outputId": "23dc7cce-6935-423a-9446-5790dd7feccc"
      },
      "execution_count": 96,
      "outputs": [
        {
          "output_type": "execute_result",
          "data": {
            "text/plain": [
              "[]"
            ]
          },
          "metadata": {},
          "execution_count": 96
        }
      ]
    },
    {
      "cell_type": "code",
      "source": [
        "word_tokens[:2]"
      ],
      "metadata": {
        "colab": {
          "base_uri": "https://localhost:8080/"
        },
        "id": "nWUJvaxusu2W",
        "outputId": "9b14064b-eed5-4c95-9c06-fb736a339f02"
      },
      "execution_count": 97,
      "outputs": [
        {
          "output_type": "execute_result",
          "data": {
            "text/plain": [
              "[]"
            ]
          },
          "metadata": {},
          "execution_count": 97
        }
      ]
    },
    {
      "cell_type": "code",
      "source": [
        "lemmer  = nltk.stem.WordNetLemmatizer()\n",
        "def LemTokens(tokens):\n",
        "    return [lemmer.lemmatize(token) for token in tokens]\n",
        "remove_punct_dict = dict((ord(punct),None) for punct in string.punctuation)\n",
        "def LemNormalize(text):\n",
        "    return LemTokens(nltk.word_tokenize(text.lower().translate(remove_punct_dict)))"
      ],
      "metadata": {
        "id": "6z9wrqKDtOaU"
      },
      "execution_count": 106,
      "outputs": []
    },
    {
      "cell_type": "code",
      "source": [
        "GREET_INPUTS = (\"Hello\",\"hi\",\"greetings\",\"sup\",\"whatsup\",\"hey\")\n",
        "GREET_RESPONSES =[\"hi\",\"hey\",\"**nods\",\"hi there\",\"heya\"]"
      ],
      "metadata": {
        "id": "QEytTyyTwm4U"
      },
      "execution_count": 107,
      "outputs": []
    },
    {
      "cell_type": "code",
      "source": [
        "def greet(sentence):\n",
        "    \n",
        "    for word in sentence.split():\n",
        "        if word.lower() in GREET_INPUTS:\n",
        "            return random.choice(GREET_RESPONSES) "
      ],
      "metadata": {
        "id": "QJUijHCpwnEw"
      },
      "execution_count": 108,
      "outputs": []
    },
    {
      "cell_type": "markdown",
      "source": [
        "**RESPONSE GENERATION**"
      ],
      "metadata": {
        "id": "Mqnvqqzgx9D_"
      }
    },
    {
      "cell_type": "code",
      "source": [
        "from sklearn.feature_extraction.text import TfidfVectorizer\n",
        "from sklearn.metrics.pairwise import cosine_similarity"
      ],
      "metadata": {
        "id": "_d4Ug5dFxJy_"
      },
      "execution_count": 109,
      "outputs": []
    },
    {
      "cell_type": "code",
      "source": [
        "def response(user_response):\n",
        "    robo1_response =''\n",
        "    TfidfVec = TfidfVectorizer(tokenizer=LemNormalize , stop_words = 'english')\n",
        "    tfidf = TfidfVec.fit_transform(sent_tokens)\n",
        "    vals = cosine_similarity(tfidf[-1],tfidf)\n",
        "    idx = vals.argsort()[0][-2]\n",
        "    flat = vals.flatten()\n",
        "    flat.sort()\n",
        "    req_tfidf = flat[-2]\n",
        "    if(req_tfidf == 0):\n",
        "      robo1_response = robo1_response+\"I am sorry! I don't understand you \"\n",
        "      return robo1_response\n",
        "    else:\n",
        "      robo1_response = robo1_response + sent_tokens[idx]\n",
        "      return robo1_response"
      ],
      "metadata": {
        "id": "Weg1ZIJXxKCC"
      },
      "execution_count": 112,
      "outputs": []
    },
    {
      "cell_type": "code",
      "source": [
        "flag = True\n",
        "print(\"BOT : Lets share ideas Also if if you want to exit anytime type bye\")\n",
        "while(flag == True):\n",
        "    user_response = input()\n",
        "    user_response = user_response.lower()\n",
        "    if(user_response!='bye'):\n",
        "        if(user_response == 'thanks' or user_response == 'thank you'):\n",
        "            flag = False\n",
        "            print(\"BOT:You are Welcome..\")\n",
        "        else:\n",
        "            if(greet(user_response)!=None):\n",
        "                print(\"BOT :\"+greet(user_response))\n",
        "            else:\n",
        "                sent_tokens.append(user_response)\n",
        "                word_tokens=word_tokens+nltk.word_tokenize(user_response)\n",
        "                final_words=list(set(word_tokens))\n",
        "                print(\"BOT:\",end=\"\")\n",
        "                print(response(user_response))\n",
        "                sent_tokens.remove(user_response)\n",
        "    else:\n",
        "        flag = False\n",
        "        print('BOT: Goodbye! Take care')\n",
        "      "
      ],
      "metadata": {
        "colab": {
          "base_uri": "https://localhost:8080/"
        },
        "id": "BJDmiKIW_5FA",
        "outputId": "7c813d2b-66fc-4f2a-ccf1-1a0e08d55d27"
      },
      "execution_count": 117,
      "outputs": [
        {
          "output_type": "stream",
          "name": "stdout",
          "text": [
            "BOT : Lets share ideas Also if if you want to exit anytime type bye\n",
            "hi\n",
            "BOT :hi\n",
            "bye\n",
            "BOT: Goodbye! Take care\n"
          ]
        }
      ]
    }
  ]
}